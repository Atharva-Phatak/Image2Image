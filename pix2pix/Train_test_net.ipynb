{
 "cells": [
  {
   "cell_type": "code",
   "execution_count": 1,
   "metadata": {},
   "outputs": [],
   "source": [
    "#importing libraries\n",
    "import torch\n",
    "import torchvision.transforms as transforms\n",
    "import os\n",
    "from torch.autograd import Variable\n",
    "from model import Generator , Discriminator\n",
    "import Utility\n",
    "import Dataset_util\n",
    "from PIL import Image\n"
   ]
  },
  {
   "cell_type": "code",
   "execution_count": 2,
   "metadata": {},
   "outputs": [
    {
     "data": {
      "text/plain": [
       "['facades_models', 'facades_results', 'test', 'train', 'val']"
      ]
     },
     "execution_count": 2,
     "metadata": {},
     "output_type": "execute_result"
    }
   ],
   "source": [
    "import os\n",
    "os.listdir('./facades')"
   ]
  },
  {
   "cell_type": "code",
   "execution_count": 6,
   "metadata": {},
   "outputs": [],
   "source": [
    "#defining the directories\n",
    "data_dir = './facades/'\n",
    "save_dir = './facades/facades_results/'\n",
    "model_dir = './facades/facades_models/'\n",
    "\n",
    "if not os.path.exists(save_dir):\n",
    "    os.mkdir(save_dir)\n",
    "if not os.path.exists(model_dir):\n",
    "    os.mkdir(model_dir)"
   ]
  },
  {
   "cell_type": "code",
   "execution_count": 3,
   "metadata": {},
   "outputs": [],
   "source": [
    "#Defining the parameters\n",
    "\n",
    "direction = 'BtoA'\n",
    "batch_size = 1\n",
    "ngf , ndf = 64,64\n",
    "input_size = 256\n",
    "resize_scale = 286\n",
    "crop_size = 256\n",
    "flip = True\n",
    "num_epochs = 10\n",
    "lrG , lrD = 0.0002 , 0.0002\n",
    "Lambda = 100 #lambda for L1 loss\n",
    "\n",
    "beta1 , beta2 = 0.5,0.999 #beta values for adam optimizer\n"
   ]
  },
  {
   "cell_type": "code",
   "execution_count": null,
   "metadata": {},
   "outputs": [],
   "source": []
  },
  {
   "cell_type": "code",
   "execution_count": 4,
   "metadata": {},
   "outputs": [],
   "source": [
    "#Defining the transforms\n",
    "transform = transforms.Compose([transforms.Resize(input_size) , transforms.ToTensor() ,\n",
    "                               transforms.Normalize(mean = (0.5,0.5,0.5) , std = (0.5,0.5,0.5))])\n",
    "\n"
   ]
  },
  {
   "cell_type": "code",
   "execution_count": 6,
   "metadata": {},
   "outputs": [],
   "source": [
    "train_data = Dataset_util.CreateDataset(data_dir , subfolder = 'train' ,direction = direction , transform = transform,\n",
    "                                  resize_scale = resize_scale , crop_size = crop_size , flip= flip)"
   ]
  },
  {
   "cell_type": "code",
   "execution_count": 7,
   "metadata": {},
   "outputs": [],
   "source": [
    "#lets create training loader\n",
    "train_loader = torch.utils.data.DataLoader(dataset = train_data , batch_size = batch_size , shuffle = True)\n"
   ]
  },
  {
   "cell_type": "code",
   "execution_count": 8,
   "metadata": {},
   "outputs": [
    {
     "name": "stdout",
     "output_type": "stream",
     "text": [
      "torch.Size([1, 3, 256, 256]) torch.Size([1, 3, 256, 256])\n"
     ]
    }
   ],
   "source": [
    "data = iter(train_loader)\n",
    "img , p = data.next()\n",
    "print(img.shape , p.shape)"
   ]
  },
  {
   "cell_type": "code",
   "execution_count": 7,
   "metadata": {},
   "outputs": [],
   "source": [
    "#lets create test data\n",
    "test_data = Dataset_util.CreateDataset(data_dir , subfolder ='test' , direction = direction , transform = transform)\n"
   ]
  },
  {
   "cell_type": "code",
   "execution_count": 8,
   "metadata": {},
   "outputs": [],
   "source": [
    "#Creating test_loader\n",
    "test_loader = torch.utils.data.DataLoader(dataset = test_data , shuffle = False , batch_size = batch_size)\n"
   ]
  },
  {
   "cell_type": "code",
   "execution_count": 11,
   "metadata": {},
   "outputs": [],
   "source": [
    "test_input, test_target = test_loader.__iter__().__next__()"
   ]
  },
  {
   "cell_type": "code",
   "execution_count": 9,
   "metadata": {},
   "outputs": [
    {
     "name": "stdout",
     "output_type": "stream",
     "text": [
      "Generator(\n",
      "  (conv1): BuildConv(\n",
      "    (Conv): Conv2d(3, 64, kernel_size=(4, 4), stride=(2, 2), padding=(1, 1))\n",
      "    (leaky_relu): LeakyReLU(negative_slope=0.2, inplace)\n",
      "    (BatchNorm): BatchNorm2d(64, eps=1e-05, momentum=0.1, affine=True, track_running_stats=True)\n",
      "  )\n",
      "  (conv2): BuildConv(\n",
      "    (Conv): Conv2d(64, 128, kernel_size=(4, 4), stride=(2, 2), padding=(1, 1))\n",
      "    (leaky_relu): LeakyReLU(negative_slope=0.2, inplace)\n",
      "    (BatchNorm): BatchNorm2d(128, eps=1e-05, momentum=0.1, affine=True, track_running_stats=True)\n",
      "  )\n",
      "  (conv3): BuildConv(\n",
      "    (Conv): Conv2d(128, 256, kernel_size=(4, 4), stride=(2, 2), padding=(1, 1))\n",
      "    (leaky_relu): LeakyReLU(negative_slope=0.2, inplace)\n",
      "    (BatchNorm): BatchNorm2d(256, eps=1e-05, momentum=0.1, affine=True, track_running_stats=True)\n",
      "  )\n",
      "  (conv4): BuildConv(\n",
      "    (Conv): Conv2d(256, 512, kernel_size=(4, 4), stride=(2, 2), padding=(1, 1))\n",
      "    (leaky_relu): LeakyReLU(negative_slope=0.2, inplace)\n",
      "    (BatchNorm): BatchNorm2d(512, eps=1e-05, momentum=0.1, affine=True, track_running_stats=True)\n",
      "  )\n",
      "  (conv5): BuildConv(\n",
      "    (Conv): Conv2d(512, 512, kernel_size=(4, 4), stride=(2, 2), padding=(1, 1))\n",
      "    (leaky_relu): LeakyReLU(negative_slope=0.2, inplace)\n",
      "    (BatchNorm): BatchNorm2d(512, eps=1e-05, momentum=0.1, affine=True, track_running_stats=True)\n",
      "  )\n",
      "  (conv6): BuildConv(\n",
      "    (Conv): Conv2d(512, 512, kernel_size=(4, 4), stride=(2, 2), padding=(1, 1))\n",
      "    (leaky_relu): LeakyReLU(negative_slope=0.2, inplace)\n",
      "    (BatchNorm): BatchNorm2d(512, eps=1e-05, momentum=0.1, affine=True, track_running_stats=True)\n",
      "  )\n",
      "  (conv7): BuildConv(\n",
      "    (Conv): Conv2d(512, 512, kernel_size=(4, 4), stride=(2, 2), padding=(1, 1))\n",
      "    (leaky_relu): LeakyReLU(negative_slope=0.2, inplace)\n",
      "    (BatchNorm): BatchNorm2d(512, eps=1e-05, momentum=0.1, affine=True, track_running_stats=True)\n",
      "  )\n",
      "  (conv8): BuildConv(\n",
      "    (Conv): Conv2d(512, 512, kernel_size=(4, 4), stride=(2, 2), padding=(1, 1))\n",
      "    (leaky_relu): LeakyReLU(negative_slope=0.2, inplace)\n",
      "    (BatchNorm): BatchNorm2d(512, eps=1e-05, momentum=0.1, affine=True, track_running_stats=True)\n",
      "  )\n",
      "  (deconv1): BuildDeconv(\n",
      "    (DeConv): ConvTranspose2d(512, 512, kernel_size=(4, 4), stride=(2, 2), padding=(1, 1))\n",
      "    (BatchNorm): BatchNorm2d(512, eps=1e-05, momentum=0.1, affine=True, track_running_stats=True)\n",
      "    (Dropout): Dropout2d(p=0.5)\n",
      "    (relu): ReLU(inplace)\n",
      "  )\n",
      "  (deconv2): BuildDeconv(\n",
      "    (DeConv): ConvTranspose2d(1024, 512, kernel_size=(4, 4), stride=(2, 2), padding=(1, 1))\n",
      "    (BatchNorm): BatchNorm2d(512, eps=1e-05, momentum=0.1, affine=True, track_running_stats=True)\n",
      "    (Dropout): Dropout2d(p=0.5)\n",
      "    (relu): ReLU(inplace)\n",
      "  )\n",
      "  (deconv3): BuildDeconv(\n",
      "    (DeConv): ConvTranspose2d(1024, 512, kernel_size=(4, 4), stride=(2, 2), padding=(1, 1))\n",
      "    (BatchNorm): BatchNorm2d(512, eps=1e-05, momentum=0.1, affine=True, track_running_stats=True)\n",
      "    (Dropout): Dropout2d(p=0.5)\n",
      "    (relu): ReLU(inplace)\n",
      "  )\n",
      "  (deconv4): BuildDeconv(\n",
      "    (DeConv): ConvTranspose2d(1024, 512, kernel_size=(4, 4), stride=(2, 2), padding=(1, 1))\n",
      "    (BatchNorm): BatchNorm2d(512, eps=1e-05, momentum=0.1, affine=True, track_running_stats=True)\n",
      "    (Dropout): Dropout2d(p=0.5)\n",
      "    (relu): ReLU(inplace)\n",
      "  )\n",
      "  (deconv5): BuildDeconv(\n",
      "    (DeConv): ConvTranspose2d(1024, 256, kernel_size=(4, 4), stride=(2, 2), padding=(1, 1))\n",
      "    (BatchNorm): BatchNorm2d(256, eps=1e-05, momentum=0.1, affine=True, track_running_stats=True)\n",
      "    (Dropout): Dropout2d(p=0.5)\n",
      "    (relu): ReLU(inplace)\n",
      "  )\n",
      "  (deconv6): BuildDeconv(\n",
      "    (DeConv): ConvTranspose2d(512, 128, kernel_size=(4, 4), stride=(2, 2), padding=(1, 1))\n",
      "    (BatchNorm): BatchNorm2d(128, eps=1e-05, momentum=0.1, affine=True, track_running_stats=True)\n",
      "    (Dropout): Dropout2d(p=0.5)\n",
      "    (relu): ReLU(inplace)\n",
      "  )\n",
      "  (deconv7): BuildDeconv(\n",
      "    (DeConv): ConvTranspose2d(256, 64, kernel_size=(4, 4), stride=(2, 2), padding=(1, 1))\n",
      "    (BatchNorm): BatchNorm2d(64, eps=1e-05, momentum=0.1, affine=True, track_running_stats=True)\n",
      "    (Dropout): Dropout2d(p=0.5)\n",
      "    (relu): ReLU(inplace)\n",
      "  )\n",
      "  (deconv8): BuildDeconv(\n",
      "    (DeConv): ConvTranspose2d(128, 3, kernel_size=(4, 4), stride=(2, 2), padding=(1, 1))\n",
      "    (BatchNorm): BatchNorm2d(3, eps=1e-05, momentum=0.1, affine=True, track_running_stats=True)\n",
      "    (Dropout): Dropout2d(p=0.5)\n",
      "    (relu): ReLU(inplace)\n",
      "  )\n",
      ")\n"
     ]
    }
   ],
   "source": [
    "#Models\n",
    "\n",
    "Gen = Generator(3 , ngf , 3)\n",
    "print(Gen)"
   ]
  },
  {
   "cell_type": "code",
   "execution_count": 10,
   "metadata": {},
   "outputs": [
    {
     "name": "stdout",
     "output_type": "stream",
     "text": [
      "Discriminator(\n",
      "  (conv1): BuildConv(\n",
      "    (Conv): Conv2d(6, 64, kernel_size=(4, 4), stride=(2, 2), padding=(1, 1))\n",
      "    (leaky_relu): LeakyReLU(negative_slope=0.2, inplace)\n",
      "    (BatchNorm): BatchNorm2d(64, eps=1e-05, momentum=0.1, affine=True, track_running_stats=True)\n",
      "  )\n",
      "  (conv2): BuildConv(\n",
      "    (Conv): Conv2d(64, 128, kernel_size=(4, 4), stride=(2, 2), padding=(1, 1))\n",
      "    (leaky_relu): LeakyReLU(negative_slope=0.2, inplace)\n",
      "    (BatchNorm): BatchNorm2d(128, eps=1e-05, momentum=0.1, affine=True, track_running_stats=True)\n",
      "  )\n",
      "  (conv3): BuildConv(\n",
      "    (Conv): Conv2d(128, 256, kernel_size=(4, 4), stride=(2, 2), padding=(1, 1))\n",
      "    (leaky_relu): LeakyReLU(negative_slope=0.2, inplace)\n",
      "    (BatchNorm): BatchNorm2d(256, eps=1e-05, momentum=0.1, affine=True, track_running_stats=True)\n",
      "  )\n",
      "  (conv4): BuildConv(\n",
      "    (Conv): Conv2d(256, 512, kernel_size=(4, 4), stride=(1, 1), padding=(1, 1))\n",
      "    (leaky_relu): LeakyReLU(negative_slope=0.2, inplace)\n",
      "    (BatchNorm): BatchNorm2d(512, eps=1e-05, momentum=0.1, affine=True, track_running_stats=True)\n",
      "  )\n",
      "  (conv5): BuildConv(\n",
      "    (Conv): Conv2d(512, 1, kernel_size=(4, 4), stride=(1, 1), padding=(1, 1))\n",
      "    (leaky_relu): LeakyReLU(negative_slope=0.2, inplace)\n",
      "    (BatchNorm): BatchNorm2d(1, eps=1e-05, momentum=0.1, affine=True, track_running_stats=True)\n",
      "  )\n",
      ")\n"
     ]
    }
   ],
   "source": [
    "#Discriminator\n",
    "Discr = Discriminator(6 , ndf , 1)\n",
    "print(Discr)"
   ]
  },
  {
   "cell_type": "code",
   "execution_count": 11,
   "metadata": {},
   "outputs": [],
   "source": [
    "if torch.cuda.is_available():\n",
    "    Gen.cuda()\n",
    "    Discr.cuda()"
   ]
  },
  {
   "cell_type": "code",
   "execution_count": 15,
   "metadata": {},
   "outputs": [],
   "source": [
    "Gen.normal_weight_init(mean= 0.0 , std = 0.02)\n",
    "Discr.normal_weight_init(mean = 0.0 , std  = 0.02)\n"
   ]
  },
  {
   "cell_type": "code",
   "execution_count": 16,
   "metadata": {},
   "outputs": [],
   "source": [
    "#Loss functions\n",
    "bce_loss = torch.nn.BCELoss()\n",
    "l1_loss = torch.nn.L1Loss()\n",
    "\n",
    "\n"
   ]
  },
  {
   "cell_type": "code",
   "execution_count": 17,
   "metadata": {},
   "outputs": [],
   "source": [
    "#Defining the optimizers\n",
    "G_optim = torch.optim.Adam(Gen.parameters() , lr = lrG , betas = (beta1 , beta2))\n",
    "D_optim = torch.optim.Adam(Discr.parameters() , lr = lrD , betas = (beta1 , beta2))\n"
   ]
  },
  {
   "cell_type": "code",
   "execution_count": 19,
   "metadata": {},
   "outputs": [
    {
     "name": "stdout",
     "output_type": "stream",
     "text": [
      "Epoch[1/10]|| D_loss : 0.6827 || G_loss : 33.3376\n",
      "Epoch[1/10]|| D_loss : 0.0102 || G_loss : 27.5106\n",
      "Epoch[1/10]|| D_loss : 0.0028 || G_loss : 27.6809\n",
      "Epoch[1/10]|| D_loss : 0.0014 || G_loss : 41.5434\n",
      "Epoch[1/10]|| D_loss : 0.0010 || G_loss : 43.1243\n",
      "Epoch[1/10]|| D_loss : 0.0007 || G_loss : 48.0038\n",
      "Epoch[1/10]|| D_loss : 0.0005 || G_loss : 39.2584\n",
      "Epoch[1/10]|| D_loss : 0.0005 || G_loss : 43.7910\n"
     ]
    },
    {
     "name": "stderr",
     "output_type": "stream",
     "text": [
      "c:\\users\\asus\\appdata\\local\\programs\\python\\python36\\lib\\site-packages\\matplotlib\\axes\\_base.py:1334: MatplotlibDeprecationWarning: \n",
      "box-forced\n",
      "  \"2.2\", \"box-forced\", obj_type=\"keyword argument\")\n"
     ]
    },
    {
     "name": "stdout",
     "output_type": "stream",
     "text": [
      "Epoch[2/10]|| D_loss : 0.0004 || G_loss : 22.8930\n",
      "Epoch[2/10]|| D_loss : 0.0003 || G_loss : 30.5993\n",
      "Epoch[2/10]|| D_loss : 0.0003 || G_loss : 28.9125\n",
      "Epoch[2/10]|| D_loss : 0.0002 || G_loss : 35.3680\n",
      "Epoch[2/10]|| D_loss : 0.0002 || G_loss : 44.3434\n",
      "Epoch[2/10]|| D_loss : 0.0002 || G_loss : 36.7032\n",
      "Epoch[2/10]|| D_loss : 0.0002 || G_loss : 31.7502\n",
      "Epoch[2/10]|| D_loss : 0.0001 || G_loss : 31.5544\n",
      "Epoch[3/10]|| D_loss : 0.0001 || G_loss : 28.4828\n",
      "Epoch[3/10]|| D_loss : 0.0001 || G_loss : 20.0865\n",
      "Epoch[3/10]|| D_loss : 0.0001 || G_loss : 45.9445\n",
      "Epoch[3/10]|| D_loss : 0.0001 || G_loss : 23.2205\n",
      "Epoch[3/10]|| D_loss : 0.0001 || G_loss : 53.7366\n",
      "Epoch[3/10]|| D_loss : 0.0001 || G_loss : 40.0581\n",
      "Epoch[3/10]|| D_loss : 0.0001 || G_loss : 26.7058\n",
      "Epoch[3/10]|| D_loss : 0.0001 || G_loss : 33.1140\n",
      "Epoch[4/10]|| D_loss : 0.0001 || G_loss : 37.2553\n",
      "Epoch[4/10]|| D_loss : 0.0001 || G_loss : 26.0676\n",
      "Epoch[4/10]|| D_loss : 0.0001 || G_loss : 24.2912\n",
      "Epoch[4/10]|| D_loss : 0.0001 || G_loss : 34.6970\n",
      "Epoch[4/10]|| D_loss : 0.0001 || G_loss : 29.0423\n",
      "Epoch[4/10]|| D_loss : 0.0001 || G_loss : 23.1684\n",
      "Epoch[4/10]|| D_loss : 0.0000 || G_loss : 37.8821\n",
      "Epoch[4/10]|| D_loss : 0.0000 || G_loss : 35.4777\n",
      "Epoch[5/10]|| D_loss : 0.0000 || G_loss : 38.2935\n",
      "Epoch[5/10]|| D_loss : 0.0000 || G_loss : 22.0385\n",
      "Epoch[5/10]|| D_loss : 0.0000 || G_loss : 52.0551\n",
      "Epoch[5/10]|| D_loss : 0.0000 || G_loss : 42.0280\n",
      "Epoch[5/10]|| D_loss : 0.0000 || G_loss : 23.8187\n",
      "Epoch[5/10]|| D_loss : 0.0000 || G_loss : 25.8442\n",
      "Epoch[5/10]|| D_loss : 0.0000 || G_loss : 32.2688\n",
      "Epoch[5/10]|| D_loss : 0.0000 || G_loss : 28.2834\n",
      "Epoch[6/10]|| D_loss : 0.0000 || G_loss : 22.0354\n",
      "Epoch[6/10]|| D_loss : 0.0000 || G_loss : 23.8859\n",
      "Epoch[6/10]|| D_loss : 0.0000 || G_loss : 30.4702\n",
      "Epoch[6/10]|| D_loss : 0.0000 || G_loss : 22.8825\n",
      "Epoch[6/10]|| D_loss : 0.0000 || G_loss : 34.7182\n",
      "Epoch[6/10]|| D_loss : 0.0000 || G_loss : 37.7143\n",
      "Epoch[6/10]|| D_loss : 0.0000 || G_loss : 46.6977\n",
      "Epoch[6/10]|| D_loss : 0.0000 || G_loss : 26.6315\n",
      "Epoch[7/10]|| D_loss : 0.0000 || G_loss : 35.6947\n",
      "Epoch[7/10]|| D_loss : 0.0000 || G_loss : 27.8564\n",
      "Epoch[7/10]|| D_loss : 0.0000 || G_loss : 35.7392\n",
      "Epoch[7/10]|| D_loss : 0.0000 || G_loss : 49.7301\n",
      "Epoch[7/10]|| D_loss : 0.0000 || G_loss : 36.3266\n",
      "Epoch[7/10]|| D_loss : 0.0000 || G_loss : 43.1327\n",
      "Epoch[7/10]|| D_loss : 0.0000 || G_loss : 37.1256\n",
      "Epoch[7/10]|| D_loss : 0.0000 || G_loss : 29.3146\n",
      "Epoch[8/10]|| D_loss : 0.0000 || G_loss : 23.2782\n",
      "Epoch[8/10]|| D_loss : 0.0000 || G_loss : 36.3654\n",
      "Epoch[8/10]|| D_loss : 0.0000 || G_loss : 20.6954\n",
      "Epoch[8/10]|| D_loss : 0.0000 || G_loss : 29.3441\n",
      "Epoch[8/10]|| D_loss : 0.0000 || G_loss : 26.9231\n",
      "Epoch[8/10]|| D_loss : 0.0000 || G_loss : 28.4432\n",
      "Epoch[8/10]|| D_loss : 0.0000 || G_loss : 33.8388\n",
      "Epoch[8/10]|| D_loss : 0.0000 || G_loss : 34.1566\n",
      "Epoch[9/10]|| D_loss : 0.0000 || G_loss : 20.3713\n",
      "Epoch[9/10]|| D_loss : 0.0000 || G_loss : 30.3003\n",
      "Epoch[9/10]|| D_loss : 0.0000 || G_loss : 36.7794\n",
      "Epoch[9/10]|| D_loss : 0.0000 || G_loss : 19.5706\n",
      "Epoch[9/10]|| D_loss : 0.0000 || G_loss : 36.3415\n",
      "Epoch[9/10]|| D_loss : 0.0000 || G_loss : 54.5061\n",
      "Epoch[9/10]|| D_loss : 0.0000 || G_loss : 31.4515\n",
      "Epoch[9/10]|| D_loss : 0.0000 || G_loss : 27.5606\n",
      "Epoch[10/10]|| D_loss : 0.0000 || G_loss : 38.7775\n",
      "Epoch[10/10]|| D_loss : 0.0000 || G_loss : 23.7500\n",
      "Epoch[10/10]|| D_loss : 0.0000 || G_loss : 40.5604\n",
      "Epoch[10/10]|| D_loss : 0.0000 || G_loss : 32.5479\n",
      "Epoch[10/10]|| D_loss : 0.0000 || G_loss : 33.6786\n",
      "Epoch[10/10]|| D_loss : 0.0000 || G_loss : 28.6013\n",
      "Epoch[10/10]|| D_loss : 0.0000 || G_loss : 35.2732\n",
      "Epoch[10/10]|| D_loss : 0.0000 || G_loss : 29.6501\n",
      "1190.948340177536\n"
     ]
    }
   ],
   "source": [
    "########Training############\n",
    "import time\n",
    "print_every = 50\n",
    "start = time.time()\n",
    "G_avg_loss , D_avg_loss = [] , []\n",
    "for epoch in range(num_epochs):\n",
    "    \n",
    "    g_loss , d_loss = [] , []\n",
    "    for i , (inp , target) in enumerate(train_loader):\n",
    "        \n",
    "        x , y = Variable(inp.cuda()) , Variable(target.cuda())\n",
    "        \n",
    "        #Training the discriminator with real_data\n",
    "        D_real = Discr(x , y).squeeze()\n",
    "        real_target = Variable(torch.ones(D_real.size()).cuda())\n",
    "        D_real_loss = bce_loss(D_real , real_target)\n",
    "        \n",
    "        #Training the discriminator with fake images\n",
    "        gen_img = Gen(x)\n",
    "        D_fake = Discr(x , gen_img).squeeze()\n",
    "        fake_target = Variable(torch.ones(D_fake.size()).cuda())\n",
    "        \n",
    "        D_fake_loss = bce_loss(D_fake , fake_target)\n",
    "        \n",
    "        #Back Propogation\n",
    "        D_loss = (D_real_loss + D_fake_loss) * 0.5\n",
    "        D_optim.zero_grad()\n",
    "        D_loss.backward()\n",
    "        D_optim.step()\n",
    "        \n",
    "        #Training the Generator\n",
    "        gen_img = Gen(x)\n",
    "        D_fake_decision = Discr(x , gen_img).squeeze()\n",
    "        G_fake_loss = bce_loss(D_fake_decision , real_target)\n",
    "        \n",
    "        #L1 loss\n",
    "        \n",
    "        G_l1 = Lambda*l1_loss(gen_img, y)\n",
    "        \n",
    "        #total generator loss\n",
    "        \n",
    "        G_loss = G_l1 + G_fake_loss\n",
    "        G_optim.zero_grad()\n",
    "        G_loss.backward()\n",
    "        G_optim.step()\n",
    "        \n",
    "        \n",
    "        g_loss.append(G_loss.item())\n",
    "        d_loss.append(D_loss.item())\n",
    "        if(i % print_every) == 0 :\n",
    "            print(\"Epoch[{}/{}]|| D_loss : {:.4f} || G_loss : {:.4f}\".format(epoch + 1 , num_epochs\n",
    "                                                                 , D_loss.item() , G_loss.item()))\n",
    "        \n",
    "    #avg_loss values\n",
    "    G_avg_loss.append(torch.mean(torch.FloatTensor(g_loss)))\n",
    "    D_avg_loss.append(torch.mean(torch.FloatTensor(d_loss)))\n",
    "    \n",
    "    #Showing result for test image\n",
    "    gen_image = Gen(Variable(test_input.cuda()))\n",
    "    gen_image = gen_image.cpu().data\n",
    "    Utility.plot_test_result(test_input , test_target , gen_image , epoch ,save = True ,save_dir = save_dir)\n",
    "print(time.time() - start)\n",
    "    \n",
    "#Plot average losses\n",
    "#Utility.plot_loss(G_avg_loss , D_avg_loss , num_epochs , save = True , save_dir = save_dir)\n",
    "\n",
    "#make gif\n",
    "#Utility.generate_gif('maps' , num_epochs , save_dir = save_dir)\n",
    "    \n"
   ]
  },
  {
   "cell_type": "code",
   "execution_count": 21,
   "metadata": {},
   "outputs": [
    {
     "data": {
      "text/plain": [
       "[]"
      ]
     },
     "execution_count": 21,
     "metadata": {},
     "output_type": "execute_result"
    },
    {
     "data": {
      "image/png": "[encoded data removed]",
      "text/plain": [
       "<Figure size 432x288 with 1 Axes>"
      ]
     },
     "metadata": {
      "needs_background": "light"
     },
     "output_type": "display_data"
    }
   ],
   "source": [
    "import matplotlib.pyplot as plt\n",
    "\n",
    "plt.plot(range(1 , num_epochs + 1),G_avg_loss , color = 'blue')\n",
    "\n",
    "plt.xlabel('Epochs')\n",
    "plt.ylabel(\"Generator Loss\")\n",
    "plt.plot()\n"
   ]
  },
  {
   "cell_type": "code",
   "execution_count": 23,
   "metadata": {},
   "outputs": [
    {
     "data": {
      "text/plain": [
       "[]"
      ]
     },
     "execution_count": 23,
     "metadata": {},
     "output_type": "execute_result"
    },
    {
     "data": {
      "image/png": "[encoded data removed]",
      "text/plain": [
       "<Figure size 432x288 with 1 Axes>"
      ]
     },
     "metadata": {
      "needs_background": "light"
     },
     "output_type": "display_data"
    }
   ],
   "source": [
    "plt.plot(range(1 , num_epochs + 1),D_avg_loss , color = 'blue')\n",
    "\n",
    "plt.xlabel('Epochs')\n",
    "plt.ylabel(\"Discriminator Loss\")\n",
    "plt.plot()"
   ]
  },
  {
   "cell_type": "code",
   "execution_count": 25,
   "metadata": {},
   "outputs": [],
   "source": [
    "# Save trained parameters of model\n",
    "torch.save(Gen.state_dict(), model_dir + 'generator_param.pkl')\n",
    "torch.save(Discr.state_dict(), model_dir + 'discriminator_param.pkl')"
   ]
  },
  {
   "cell_type": "code",
   "execution_count": 22,
   "metadata": {},
   "outputs": [],
   "source": [
    "save_test_dir = './facades/test_results/'\n",
    "if not os.path.exists(save_test_dir):\n",
    "    os.mkdir(save_test_dir)"
   ]
  },
  {
   "cell_type": "code",
   "execution_count": 13,
   "metadata": {},
   "outputs": [],
   "source": [
    "Gen.load_state_dict(torch.load(model_dir + 'generator_param.pkl'))"
   ]
  },
  {
   "cell_type": "code",
   "execution_count": 23,
   "metadata": {},
   "outputs": [
    {
     "name": "stdout",
     "output_type": "stream",
     "text": [
      "1 images are generated.\n",
      "2 images are generated.\n",
      "3 images are generated.\n",
      "4 images are generated.\n",
      "5 images are generated.\n",
      "6 images are generated.\n",
      "7 images are generated.\n",
      "8 images are generated.\n",
      "9 images are generated.\n",
      "10 images are generated.\n",
      "11 images are generated.\n",
      "12 images are generated.\n",
      "13 images are generated.\n",
      "14 images are generated.\n",
      "15 images are generated.\n",
      "16 images are generated.\n",
      "17 images are generated.\n",
      "18 images are generated.\n",
      "19 images are generated.\n",
      "20 images are generated.\n",
      "21 images are generated.\n",
      "22 images are generated.\n",
      "23 images are generated.\n",
      "24 images are generated.\n",
      "25 images are generated.\n",
      "26 images are generated.\n",
      "27 images are generated.\n",
      "28 images are generated.\n",
      "29 images are generated.\n",
      "30 images are generated.\n",
      "31 images are generated.\n",
      "32 images are generated.\n",
      "33 images are generated.\n",
      "34 images are generated.\n",
      "35 images are generated.\n",
      "36 images are generated.\n",
      "37 images are generated.\n",
      "38 images are generated.\n",
      "39 images are generated.\n",
      "40 images are generated.\n",
      "41 images are generated.\n",
      "42 images are generated.\n",
      "43 images are generated.\n",
      "44 images are generated.\n",
      "45 images are generated.\n",
      "46 images are generated.\n",
      "47 images are generated.\n",
      "48 images are generated.\n",
      "49 images are generated.\n",
      "50 images are generated.\n",
      "51 images are generated.\n",
      "52 images are generated.\n",
      "53 images are generated.\n",
      "54 images are generated.\n",
      "55 images are generated.\n",
      "56 images are generated.\n",
      "57 images are generated.\n",
      "58 images are generated.\n",
      "59 images are generated.\n",
      "60 images are generated.\n",
      "61 images are generated.\n",
      "62 images are generated.\n",
      "63 images are generated.\n",
      "64 images are generated.\n",
      "65 images are generated.\n",
      "66 images are generated.\n",
      "67 images are generated.\n",
      "68 images are generated.\n",
      "69 images are generated.\n",
      "70 images are generated.\n",
      "71 images are generated.\n",
      "72 images are generated.\n",
      "73 images are generated.\n",
      "74 images are generated.\n",
      "75 images are generated.\n",
      "76 images are generated.\n",
      "77 images are generated.\n",
      "78 images are generated.\n",
      "79 images are generated.\n",
      "80 images are generated.\n",
      "81 images are generated.\n",
      "82 images are generated.\n",
      "83 images are generated.\n",
      "84 images are generated.\n",
      "85 images are generated.\n",
      "86 images are generated.\n",
      "87 images are generated.\n",
      "88 images are generated.\n",
      "89 images are generated.\n",
      "90 images are generated.\n",
      "91 images are generated.\n",
      "92 images are generated.\n",
      "93 images are generated.\n",
      "94 images are generated.\n",
      "95 images are generated.\n",
      "96 images are generated.\n",
      "97 images are generated.\n",
      "98 images are generated.\n",
      "99 images are generated.\n",
      "100 images are generated.\n",
      "101 images are generated.\n",
      "102 images are generated.\n",
      "103 images are generated.\n",
      "104 images are generated.\n",
      "105 images are generated.\n",
      "106 images are generated.\n"
     ]
    }
   ],
   "source": [
    "#Testing\n",
    "for i ,(inp , target) in enumerate(test_loader):\n",
    "    \n",
    "    x , y = Variable(inp.cuda()) , Variable(target.cuda())\n",
    "    gen_image = Gen(x)\n",
    "    gen_image = gen_image.cpu()\n",
    "    \n",
    "    Utility.plot_test_result(inp , target, gen_image , i ,training = False , save = True , save_dir = save_test_dir)\n",
    "    print('%d images are generated.' % (i + 1))"
   ]
  },
  {
   "cell_type": "code",
   "execution_count": 34,
   "metadata": {},
   "outputs": [],
   "source": [
    "#Function to create GIFs\n",
    "import imageio\n",
    "def generate_gif(dataset , num_epochs , save_dir = 'results/'):\n",
    "    \n",
    "    gen_image_plot = []\n",
    "    \n",
    "    for epoch in range(num_epochs):\n",
    "        save_fn = save_dir + 'Test_result_{:d}'.format(epoch + 1) +'.png'\n",
    "        gen_image_plot.append(imageio.imread(save_fn))\n",
    "        \n",
    "    imageio.mimsave(save_dir + dataset + '_pix2pix_epochs_{}'.format(num_epochs) + '.gif', gen_image_plot, fps=5)\n",
    "    \n",
    "\n",
    "    "
   ]
  },
  {
   "cell_type": "code",
   "execution_count": 35,
   "metadata": {},
   "outputs": [],
   "source": [
    "#lets create gifs\n",
    "generate_gif('facades' , 10 , save_test_dir)"
   ]
  },
  {
   "cell_type": "code",
   "execution_count": 28,
   "metadata": {},
   "outputs": [
    {
     "name": "stdout",
     "output_type": "stream",
     "text": [
      "_pix2pix_epochs_10\n"
     ]
    }
   ],
   "source": []
  },
  {
   "cell_type": "code",
   "execution_count": null,
   "metadata": {},
   "outputs": [],
   "source": []
  }
 ],
 "metadata": {
  "kernelspec": {
   "display_name": "Python 3",
   "language": "python",
   "name": "python3"
  },
  "language_info": {
   "codemirror_mode": {
    "name": "ipython",
    "version": 3
   },
   "file_extension": ".py",
   "mimetype": "text/x-python",
   "name": "python",
   "nbconvert_exporter": "python",
   "pygments_lexer": "ipython3",
   "version": "3.6.8"
  }
 },
 "nbformat": 4,
 "nbformat_minor": 4
}
